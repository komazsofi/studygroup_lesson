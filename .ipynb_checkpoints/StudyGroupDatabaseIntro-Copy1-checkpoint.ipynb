{
 "cells": [
  {
   "cell_type": "markdown",
   "metadata": {},
   "source": []
  },
  {
   "cell_type": "markdown",
   "metadata": {
    "collapsed": true
   },
   "source": [
    "## 1. Why Databases?"
   ]
  },
  {
   "cell_type": "markdown",
   "metadata": {},
   "source": [
    "- Aim : get a short introduction into using databases and using databases with python\n",
    "\n",
    "- Dutch Vegetation Database\n",
    "\n",
    "![](https://github.com/komazsofi/usingdatabases/blob/master/figures/db.PNG?raw=true)\n",
    "\n",
    "- Tasks: \n",
    "\t* ask all the observation which was observed on a selected location\n",
    "\t* calculate species richness\n",
    "\t* find all the information where English oak (Quercus robur) is presented\n",
    "\t* how many observation per habitats is exist\n"
   ]
  },
  {
   "cell_type": "markdown",
   "metadata": {},
   "source": [
    "## 2. Basic SQL queries (PostgreSQL - pgAdmin)"
   ]
  },
  {
   "cell_type": "markdown",
   "metadata": {},
   "source": [
    "- ask all the observation which was observed on a selected location\n",
    "\n",
    "```sql\n",
    "select * from observation\n",
    "where observation.polygonid=100;\n",
    "```\n",
    "\n",
    "```sql\n",
    "select * from observation\n",
    "LEFT JOIN species ON species.species_id=observation.specieskey\n",
    "where observation.polygonid=100;\n",
    "```\n",
    "\n",
    "- calculate species richness\n",
    "\n",
    "```sql\n",
    "select specieskey,count(specieskey) into speciesrichness from observation \n",
    "group by specieskey;\n",
    "```\n",
    "\n",
    "```sql\n",
    "select * from speciesrichness\n",
    "LEFT JOIN species ON species.species_id=speciesrichness.specieskey\n",
    "```\n",
    "\n",
    "- find all the information where English oak (Quercus robur) is presented\n",
    "\n",
    "```sql\n",
    "select * into speciesinfotoobservation from observation\n",
    "LEFT JOIN species ON species.species_id=observation.specieskey\n",
    "```\n",
    "\n",
    "```sql\n",
    "select * from speciesinfotoobservation \n",
    "where speciesinfotoobservation.species='Quercus robur';\n",
    "```\n",
    "\n",
    "- how many observation per habitats is exist\n",
    "\n",
    "```sql\n",
    "select habitat,count(polygonid) from plot\n",
    "group by habitat\n",
    "```\n"
   ]
  },
  {
   "cell_type": "markdown",
   "metadata": {},
   "source": [
    "## 3. How to handle a database within python?"
   ]
  },
  {
   "cell_type": "code",
   "execution_count": 5,
   "metadata": {},
   "outputs": [
    {
     "name": "stdout",
     "output_type": "stream",
     "text": [
      "38\n"
     ]
    }
   ],
   "source": [
    "import psycopg2 as dbapi2\n",
    "import numpy as np\n",
    "import pandas as pd\n",
    "\n",
    "db = dbapi2.connect(host=\"localhost\", database=\"postgres\", user=\"user\", password=\"local\")\n",
    "cur = db.cursor()\n",
    "cur.execute(\"select * from observation where observation.polygonid=100\");\n",
    "result = cur.fetchall()\n",
    "cur.close()\n",
    "db.close()\n",
    "\n",
    "print(len(result))"
   ]
  },
  {
   "cell_type": "code",
   "execution_count": 6,
   "metadata": {},
   "outputs": [
    {
     "name": "stdout",
     "output_type": "stream",
     "text": [
      "(38L, 4L)\n"
     ]
    }
   ],
   "source": [
    "result_asarray=np.array(result)\n",
    "print(result_asarray.shape)"
   ]
  },
  {
   "cell_type": "code",
   "execution_count": 8,
   "metadata": {},
   "outputs": [
    {
     "name": "stdout",
     "output_type": "stream",
     "text": [
      "38\n"
     ]
    }
   ],
   "source": [
    "import psycopg2 as dbapi2\n",
    "import numpy as np\n",
    "\n",
    "def db_connect(sqlcommand,host=\"localhost\", database=\"postgres\", user=\"user\", password=\"local\"):\n",
    "\n",
    "    \"\"\"\n",
    "    Connect to the database \n",
    "    \"\"\"\n",
    "\n",
    "    db = dbapi2.connect(host=host, database=database, user=user, password=password)\n",
    "    cur = db.cursor()\n",
    "\n",
    "    cur.execute(sqlcommand);\n",
    "\n",
    "    result = cur.fetchall()\n",
    "\n",
    "    cur.close()\n",
    "    db.close()\n",
    "\n",
    "    return np.array(result)\n",
    "\n",
    "result=db_connect(\"select * from observation where observation.polygonid=100\")\n",
    "print(len(result))"
   ]
  },
  {
   "cell_type": "markdown",
   "metadata": {},
   "source": [
    "## 4. Direct visualization"
   ]
  },
  {
   "cell_type": "code",
   "execution_count": 13,
   "metadata": {},
   "outputs": [
    {
     "name": "stdout",
     "output_type": "stream",
     "text": [
      "[['Open water' '651']\n",
      " ['Grassland (not salty)' '4974']\n",
      " ['Forest' '2151']\n",
      " ['Brushwood' '859']\n",
      " ['Wet pionier environment' '488']\n",
      " ['Dry disturbed environment' '751']\n",
      " ['Saltmarch' '1711']\n",
      " ['Heathland' '1155']\n",
      " ['Marsh' '1353']\n",
      " ['Fringes & tall forb vegetation' '1575']]\n",
      "[  651.  4974.  2151.   859.   488.   751.  1711.  1155.  1353.  1575.]\n"
     ]
    }
   ],
   "source": [
    "habitats=db_connect(\"select habitat,count(polygonid) from plot group by habitat\")\n",
    "print(habitats)\n",
    "\n",
    "print(habitats[:,1].astype(np.float))"
   ]
  },
  {
   "cell_type": "code",
   "execution_count": 15,
   "metadata": {},
   "outputs": [
    {
     "data": {
      "image/png": "[encoded data removed]",
      "text/plain": [
       "<matplotlib.figure.Figure at 0xa258da0>"
      ]
     },
     "metadata": {},
     "output_type": "display_data"
    }
   ],
   "source": [
    "import matplotlib.pyplot as plt\n",
    "\n",
    "y_pos = np.arange(len(habitats[:,0]))\n",
    "\n",
    "plt.bar(y_pos, habitats[:,1].astype(np.float))\n",
    "plt.xticks(y_pos, habitats[:,0],rotation='vertical')\n",
    "plt.show()"
   ]
  },
  {
   "cell_type": "code",
   "execution_count": null,
   "metadata": {
    "collapsed": true
   },
   "outputs": [],
   "source": []
  }
 ],
 "metadata": {
  "kernelspec": {
   "display_name": "Python 2",
   "language": "python",
   "name": "python2"
  },
  "language_info": {
   "codemirror_mode": {
    "name": "ipython",
    "version": 2
   },
   "file_extension": ".py",
   "mimetype": "text/x-python",
   "name": "python",
   "nbconvert_exporter": "python",
   "pygments_lexer": "ipython2",
   "version": "2.7.14"
  }
 },
 "nbformat": 4,
 "nbformat_minor": 1
}
