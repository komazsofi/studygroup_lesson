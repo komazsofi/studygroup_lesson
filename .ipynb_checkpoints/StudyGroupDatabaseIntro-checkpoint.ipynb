{
 "cells": [
  {
   "cell_type": "markdown",
   "metadata": {},
   "source": []
  },
  {
   "cell_type": "markdown",
   "metadata": {
    "collapsed": true
   },
   "source": [
    "## 1. Why Databases?"
   ]
  },
  {
   "cell_type": "markdown",
   "metadata": {},
   "source": [
    "- Aim\n",
    "\n",
    "- Dutch Vegetation Database\n",
    "\n",
    "- Tasks: \n",
    "\t* ask all the observation which was observed on a selected location\n",
    "\t* calculate species richness\n",
    "\t* calclate species richness for forest habitats only\n",
    "\t* find all the information where English oak (Quercus robur) is presented\n"
   ]
  },
  {
   "cell_type": "markdown",
   "metadata": {},
   "source": [
    "## 2. Basic SQL queries (PostgreSQL - pgAdmin)"
   ]
  },
  {
   "cell_type": "markdown",
   "metadata": {},
   "source": [
    "- ask all the observation which was observed on a selected location\n",
    "\n",
    "```sql\n",
    "select * from observation\n",
    "where observation.polygonid=100;\n",
    "```\n",
    "\n",
    "```sql\n",
    "select * from observation\n",
    "LEFT JOIN species ON species.species_id=observation.specieskey\n",
    "where observation.polygonid=100;\n",
    "```"
   ]
  },
  {
   "cell_type": "markdown",
   "metadata": {},
   "source": [
    "## 3. How to handle a database within python?"
   ]
  },
  {
   "cell_type": "code",
   "execution_count": null,
   "metadata": {
    "collapsed": true
   },
   "outputs": [],
   "source": []
  },
  {
   "cell_type": "markdown",
   "metadata": {},
   "source": [
    "## 4. PL/Python (write python function into database)"
   ]
  },
  {
   "cell_type": "code",
   "execution_count": null,
   "metadata": {
    "collapsed": true
   },
   "outputs": [],
   "source": []
  }
 ],
 "metadata": {
  "kernelspec": {
   "display_name": "Python 2",
   "language": "python",
   "name": "python2"
  },
  "language_info": {
   "codemirror_mode": {
    "name": "ipython",
    "version": 2
   },
   "file_extension": ".py",
   "mimetype": "text/x-python",
   "name": "python",
   "nbconvert_exporter": "python",
   "pygments_lexer": "ipython2",
   "version": "2.7.14"
  }
 },
 "nbformat": 4,
 "nbformat_minor": 1
}
